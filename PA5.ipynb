{
 "cells": [
  {
   "cell_type": "markdown",
   "id": "2e973abd",
   "metadata": {},
   "source": [
    "## PA5 Radjamin Hukom, v1, spring 2023"
   ]
  },
  {
   "cell_type": "code",
   "execution_count": 48,
   "id": "3474c749",
   "metadata": {},
   "outputs": [
    {
     "name": "stdout",
     "output_type": "stream",
     "text": [
      "Enter a word to translate from English to Indonesian (Enter 0 to stop): 2\n",
      "The Indonesian word for 2 is not in this dictionary\n",
      "Enter a word to translate from English to Indonesian (Enter 0 to stop): 0\n"
     ]
    }
   ],
   "source": [
    "d1={\"me\":\"saya\",\n",
    "    \"you\":\"kamu\",\n",
    "   \"here\":\"sini\",\n",
    "   \"there\":\"sana\",\n",
    "   'go':'pergi',\n",
    "   'come':'datang',\n",
    "   'eat':'makan',\n",
    "   'drink':'minum',\n",
    "   'die':'mati',\n",
    "    'live':'hidup'}\n",
    "word=\" \"\n",
    "while word!='0':\n",
    "    word=input(\"Enter a word to translate from English to Indonesian (Enter 0 to stop): \")\n",
    "    if word in d1:\n",
    "        d1[word]\n",
    "    elif word=='0':\n",
    "        break\n",
    "    else:\n",
    "        print(\"The Indonesian word for\",word,\"is not in this dictionary\")"
   ]
  },
  {
   "cell_type": "markdown",
   "id": "7ad73661",
   "metadata": {},
   "source": [
    "dweather= {1:34,\n",
    "          2:38,\n",
    "          3:32,\n",
    "          4:50,\n",
    "          5:55,\n",
    "          6:57,\n",
    "          7:64,\n",
    "          8:56,\n",
    "          9:64,\n",
    "          10:46,\n",
    "          11:51,\n",
    "          12:59,\n",
    "          13:64,\n",
    "          14:63,\n",
    "          15:75,\n",
    "          16:61,\n",
    "          17:35,\n",
    "          18:50,\n",
    "          19:62,\n",
    "          20:64,\n",
    "          21:61,\n",
    "          22:77,\n",
    "          23:74,\n",
    "          24:50,\n",
    "          25:56,\n",
    "          26:60,\n",
    "          27:70,\n",
    "          28:61}\n"
   ]
  },
  {
   "cell_type": "code",
   "execution_count": 37,
   "id": "0a42bd3a",
   "metadata": {},
   "outputs": [
    {
     "name": "stdout",
     "output_type": "stream",
     "text": [
      "{1: 1, 2: 3, 3: 0, 4: 10, 5: 13, 6: 14, 7: 18, 8: 13, 9: 18, 10: 8, 11: 11, 12: 15, 13: 18, 14: 17, 15: 24, 16: 16, 17: 2, 18: 10, 19: 17, 20: 18, 21: 16, 22: 25, 23: 23, 24: 10, 25: 13, 26: 16, 27: 21, 28: 16}\n"
     ]
    }
   ],
   "source": [
    "i=1\n",
    "while dweather:\n",
    "    if i==29:\n",
    "        break\n",
    "    else:\n",
    "        dweather[i]=round((dweather[i]-32)*5/9)\n",
    "        i+=1\n",
    "print(dweather)"
   ]
  },
  {
   "cell_type": "code",
   "execution_count": 47,
   "id": "a47fe33b",
   "metadata": {},
   "outputs": [
    {
     "name": "stdout",
     "output_type": "stream",
     "text": [
      "{1: 1, 2: 4, 3: 9, 4: 16, 5: 25, 6: 36, 7: 49, 8: 64, 9: 81, 10: 100, 11: 121, 12: 144, 13: 169, 14: 196, 15: 225}\n"
     ]
    }
   ],
   "source": [
    "d3={}\n",
    "i=1\n",
    "while i<=15:\n",
    "    d3.update({i:i**2})\n",
    "    i+=1\n",
    "print(d3)"
   ]
  }
 ],
 "metadata": {
  "kernelspec": {
   "display_name": "Python 3 (ipykernel)",
   "language": "python",
   "name": "python3"
  },
  "language_info": {
   "codemirror_mode": {
    "name": "ipython",
    "version": 3
   },
   "file_extension": ".py",
   "mimetype": "text/x-python",
   "name": "python",
   "nbconvert_exporter": "python",
   "pygments_lexer": "ipython3",
   "version": "3.9.13"
  }
 },
 "nbformat": 4,
 "nbformat_minor": 5
}
